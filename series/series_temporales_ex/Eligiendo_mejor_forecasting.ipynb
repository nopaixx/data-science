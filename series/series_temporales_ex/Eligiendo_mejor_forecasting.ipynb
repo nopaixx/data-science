{
 "cells": [
  {
   "cell_type": "markdown",
   "metadata": {},
   "source": [
    "\n",
    "# Elección de la mejor predición\n",
    "\n",
    "\n",
    "VAmos a trabajar con las sigueinte  __Series de tiempos __ que nos da ventas mensuales de coles en Quebec desde 1960 hasta 1968. Este dataset puede ser bajado de aquí: \n",
    "\n",
    "<https://datamarket.com/data/set/22n4/monthly-car-sales-in-quebec-1960-1968>\n",
    "\n",
    "El objetivo de este notebook es explorar diferentes modelos para predecir \n",
    "las ventas futuras. \n",
    "\n",
    "Seguiremos los siguientes pasos:\n",
    "\n",
    "1. Preparación de datos.\n",
    "2. Separar los datos en entrenamiento, test y validación.\n",
    "3. Construir los diferentes modelos.\n",
    "4. Ajustar los modelos o a los datos de entrenamiento.\n",
    "5. Evaluar cada modelo en el conjunto de valildación y elegir el mejor.\n",
    "6. Evaluar el modelo en el conjunto de test."
   ]
  },
  {
   "cell_type": "code",
   "execution_count": null,
   "metadata": {
    "collapsed": true
   },
   "outputs": [],
   "source": [
    "import datetime\n",
    "import numpy as np\n",
    "import pandas as pd\n",
    "import matplotlib.pyplot as plt\n",
    "%matplotlib inline"
   ]
  },
  {
   "cell_type": "code",
   "execution_count": null,
   "metadata": {
    "collapsed": false
   },
   "outputs": [],
   "source": [
    "plt.rcParams['figure.figsize'] = [20, 10]\n",
    "plt.rc('xtick', labelsize=20)     \n",
    "plt.rc('ytick', labelsize=20)"
   ]
  },
  {
   "cell_type": "markdown",
   "metadata": {},
   "source": [
    "### Preparación de datos"
   ]
  },
  {
   "cell_type": "code",
   "execution_count": null,
   "metadata": {
    "collapsed": false
   },
   "outputs": [],
   "source": [
    "cars_df = pd.read_csv(\"TUPATH\")\n",
    "cars_df.tail()"
   ]
  },
  {
   "cell_type": "markdown",
   "metadata": {},
   "source": [
    "Limpiamos última fila"
   ]
  },
  {
   "cell_type": "code",
   "execution_count": null,
   "metadata": {
    "collapsed": true
   },
   "outputs": [],
   "source": [
    "cars_df = cars_df.iloc[:-1]"
   ]
  },
  {
   "cell_type": "markdown",
   "metadata": {},
   "source": [
    "Cambiamos el formato de las fechas"
   ]
  },
  {
   "cell_type": "code",
   "execution_count": null,
   "metadata": {
    "collapsed": true
   },
   "outputs": [],
   "source": [
    "cars_df[\"dt\"] = cars_df[\"Month\"].apply(lambda x: datetime.datetime.strptime(x, '%Y-%m'))"
   ]
  },
  {
   "cell_type": "markdown",
   "metadata": {},
   "source": [
    "Renombramos la columna `Monthly car sales in Quebec 1960-1968` por  `sales` y eliminamos la columna `Month`."
   ]
  },
  {
   "cell_type": "code",
   "execution_count": null,
   "metadata": {
    "collapsed": false
   },
   "outputs": [],
   "source": [
    "cars_df = cars_df\\\n",
    "    .rename({\"Monthly car sales in Quebec 1960-1968\": \"sales\"}, axis=1)\\\n",
    "    .drop(\"Month\", axis=1)\n",
    "cars_df.tail()"
   ]
  },
  {
   "cell_type": "markdown",
   "metadata": {},
   "source": [
    "Dibujamos nuestra serie de tiempos:"
   ]
  },
  {
   "cell_type": "code",
   "execution_count": null,
   "metadata": {
    "collapsed": false
   },
   "outputs": [],
   "source": [
    "plt.plot(cars_df[\"dt\"], cars_df[\"sales\"])"
   ]
  },
  {
   "cell_type": "markdown",
   "metadata": {},
   "source": [
    "Verificamos que tenemos datos de todos los meses:"
   ]
  },
  {
   "cell_type": "code",
   "execution_count": null,
   "metadata": {
    "collapsed": false
   },
   "outputs": [],
   "source": [
    "cars_df[['dt']].groupby(cars_df[\"dt\"].dt.year).count()"
   ]
  },
  {
   "cell_type": "markdown",
   "metadata": {},
   "source": [
    "## Separar los datos en entrenamiento, test y validación.\n",
    "\n",
    "\n",
    "* Mucho cuidado que cuando trabajamos series de tiempos no podemos hacer el split aleatoriamente ya que se trata de predecir datos a futuro. Por tanto tenemos respetar que el conjunto de validación y test son usando datos posteriores al conjunto de entrenamiento."
   ]
  },
  {
   "cell_type": "code",
   "execution_count": null,
   "metadata": {
    "collapsed": true
   },
   "outputs": [],
   "source": [
    "#WRITE YOUR CODE"
   ]
  },
  {
   "cell_type": "markdown",
   "metadata": {},
   "source": [
    "## Modelo 1: media de las anteriores ventas\n",
    "\n",
    "\n",
    "Un simple modelo es predecir a futuro el valor de la media de los datos anteriores."
   ]
  },
  {
   "cell_type": "code",
   "execution_count": null,
   "metadata": {
    "collapsed": true
   },
   "outputs": [],
   "source": [
    "#WRITE YOUR CODE"
   ]
  },
  {
   "cell_type": "markdown",
   "metadata": {},
   "source": [
    "Dibujamos su performance"
   ]
  },
  {
   "cell_type": "code",
   "execution_count": null,
   "metadata": {
    "collapsed": false
   },
   "outputs": [],
   "source": [
    "def plot_predicition(X_train, y_train, X_dev, y_dev, y_dev_hat):\n",
    "    plt.plot(X_train[\"dt\"], y_train, c=\"blue\", label='train data')\n",
    "    plt.plot(X_dev[\"dt\"], y_dev, c=\"green\", label='dev data')\n",
    "    plt.plot(X_dev[\"dt\"], y_dev_hat, c=\"orange\", label='prediction')\n",
    "    plt.legend()\n",
    "    plt.show()\n",
    "    \n",
    "plot_predicition(X_train, y_train, X_dev, y_dev, y_dev_hat)"
   ]
  },
  {
   "cell_type": "markdown",
   "metadata": {},
   "source": [
    "Vemos que la predición no es buena, pero nos sirve para tener un __baseline__, un punto de comienzo para ir mejorando con otros modelos.\n",
    "\n",
    "Para la evaluación del performance del modelo usaremos el error cuadrático medio, MSE, y su raiz, RSME que nos servirán para elegir el mejor modelo."
   ]
  },
  {
   "cell_type": "code",
   "execution_count": null,
   "metadata": {
    "collapsed": false
   },
   "outputs": [],
   "source": [
    "from sklearn.metrics import mean_squared_error\n",
    "\n",
    "print(\"MSE: \" ,mean_squared_error(y_dev, y_dev_hat))\n",
    "print(\"RMSE: \", np.sqrt(mean_squared_error(y_dev, y_dev_hat)))"
   ]
  },
  {
   "cell_type": "markdown",
   "metadata": {},
   "source": [
    "## Modelo 2: media del año anterior\n",
    "\n",
    "Vamos a tomar la media de los últimos doce meses"
   ]
  },
  {
   "cell_type": "code",
   "execution_count": null,
   "metadata": {
    "collapsed": false
   },
   "outputs": [],
   "source": [
    "#WRITE YOUR CODE"
   ]
  },
  {
   "cell_type": "markdown",
   "metadata": {},
   "source": [
    "This time it looks better."
   ]
  },
  {
   "cell_type": "code",
   "execution_count": null,
   "metadata": {
    "collapsed": false
   },
   "outputs": [],
   "source": [
    "np.sqrt(mean_squared_error(y_dev, y_dev_hat))"
   ]
  },
  {
   "cell_type": "markdown",
   "metadata": {},
   "source": [
    "##  Modelo 3: valor del mes anterior\n",
    "\n",
    "\n",
    "A menudo, para predecir el valor del siguiente mes, usamos el valor del anterior mes. Para ello vamos a añadir una nueva feature que nos da el valor del mes anterior usando el método en python llamado `shift`. esto es llamado __lag__."
   ]
  },
  {
   "cell_type": "code",
   "execution_count": null,
   "metadata": {
    "collapsed": false
   },
   "outputs": [],
   "source": [
    "#WRITE YOUR CODE"
   ]
  },
  {
   "cell_type": "code",
   "execution_count": null,
   "metadata": {
    "collapsed": true
   },
   "outputs": [],
   "source": [
    "X_train, X_dev, X_test, y_train, y_dev, y_test = split_into_train_dev_test(Xy_with_lags)"
   ]
  },
  {
   "cell_type": "code",
   "execution_count": null,
   "metadata": {
    "collapsed": false
   },
   "outputs": [],
   "source": [
    "y_dev_hat = X_dev['sales-1']\n",
    "plot_predicition(X_train, y_train, X_dev, y_dev, y_dev_hat)"
   ]
  },
  {
   "cell_type": "code",
   "execution_count": null,
   "metadata": {
    "collapsed": false
   },
   "outputs": [],
   "source": [
    "np.sqrt(mean_squared_error(y_dev, y_dev_hat))"
   ]
  },
  {
   "cell_type": "markdown",
   "metadata": {},
   "source": [
    "##  Modelo 4: modelo de Autoregresion (AR)\n",
    "\n",
    "\n",
    "Es claro que los datos de Diciembre de un año y el anterior están correlacionados. Vamos a calcular si es cierto haciendo la función de correlación entre un periodo y el de un año anterior (usaremos lags)."
   ]
  },
  {
   "cell_type": "code",
   "execution_count": null,
   "metadata": {
    "collapsed": false
   },
   "outputs": [],
   "source": [
    "N_lags = #WRITE YOUR CODE\n",
    "\n",
    "def create_lags(Xy, n_lags):\n",
    "    Xy_with_lags = Xy.copy()\n",
    "    for i in range(1, n_lags+1):\n",
    "        Xy_with_lags['sales-'+str(i)] = Xy_with_lags['sales'].shift(i)\n",
    "    return Xy_with_lags\n",
    "\n",
    "Xy_with_lags = create_lags(Xy, N_lags)\n",
    "autocorrelations = Xy_with_lags.iloc[N_lags:].drop(\"dt\", axis=1).corr()['sales']"
   ]
  },
  {
   "cell_type": "code",
   "execution_count": null,
   "metadata": {
    "collapsed": false
   },
   "outputs": [],
   "source": [
    "autocorrelations.plot(kind='bar',color='gray')"
   ]
  },
  {
   "cell_type": "markdown",
   "metadata": {},
   "source": [
    "Elegimos las columnas que son más correladas con sales."
   ]
  },
  {
   "cell_type": "code",
   "execution_count": null,
   "metadata": {
    "collapsed": false
   },
   "outputs": [],
   "source": [
    "#WRITE YOUR CODE"
   ]
  },
  {
   "cell_type": "markdown",
   "metadata": {},
   "source": [
    "Eliminamos los Nas de los lags y construimos un modelo lineal"
   ]
  },
  {
   "cell_type": "code",
   "execution_count": null,
   "metadata": {
    "collapsed": false
   },
   "outputs": [],
   "source": [
    "#WRITE YOUR CODE"
   ]
  },
  {
   "cell_type": "code",
   "execution_count": null,
   "metadata": {
    "collapsed": false
   },
   "outputs": [],
   "source": [
    "plot_predicition(X_train, y_train, X_dev, y_dev, y_dev_hat)"
   ]
  },
  {
   "cell_type": "markdown",
   "metadata": {},
   "source": [
    "Ahora hemos mejorado más que el doble!!!!"
   ]
  },
  {
   "cell_type": "markdown",
   "metadata": {},
   "source": [
    "##  Modelo 5: modelo recurrente \n",
    "\n",
    "A menudo en la práctica nosotros buscamos una predición para todo el año. Vamos a asumir que estamos en Enero de 1967 y nos gustaria tener una previsión par todos los meses de 1967 y así la empresa podría optimizar el stock mensual.\n",
    "\n",
    "Podemos hacer lo mismo que en el modelo anterior pero usando las prediciones anteriores. Esto significa que para predecir Abril usaremos los ultimos 12 meses últimos, tomando para Enero, Febreo y Marzo los datos de predicion. "
   ]
  },
  {
   "cell_type": "code",
   "execution_count": null,
   "metadata": {
    "collapsed": false
   },
   "outputs": [],
   "source": [
    "def recurrent_prediction(y_train, n_steps, reg):\n",
    "    x_dev = list(y_train[-1:-(n_steps +1):-1])\n",
    "    y_dev_hat = []\n",
    "    for i in range(n_steps):\n",
    "        y_hat = reg.predict([x_dev])[0]\n",
    "        y_dev_hat.append(y_hat)\n",
    "        x_dev.pop(-1)\n",
    "        x_dev = [y_hat] + x_dev\n",
    "    return y_dev_hat\n",
    "\n",
    "y_dev_hat = recurrent_prediction(y_train, 12, reg_all_columns)\n",
    "np.sqrt(mean_squared_error(y_dev, y_dev_hat))"
   ]
  },
  {
   "cell_type": "code",
   "execution_count": null,
   "metadata": {
    "collapsed": false
   },
   "outputs": [],
   "source": [
    "plot_predicition(X_train, y_train, X_dev, y_dev, y_dev_hat)"
   ]
  },
  {
   "cell_type": "markdown",
   "metadata": {},
   "source": [
    "##  Modelo 6: K-nearest neighborhood "
   ]
  },
  {
   "cell_type": "code",
   "execution_count": null,
   "metadata": {
    "collapsed": false
   },
   "outputs": [],
   "source": [
    "from sklearn.neighbors import KNeighborsRegressor\n",
    "\n",
    "N_lags = #WRITE YOUR CODE\n",
    "Xy_with_lags = create_lags(Xy, N_lags).iloc[N_lags:]\n",
    "X_train, X_dev, X_test, y_train, y_dev, y_test = split_into_train_dev_test(Xy_with_lags)\n",
    "\n",
    "reg_kn = KNeighborsRegressor(n_neighbors=#WRITE YOUR CODE)\n",
    "reg_kn.fit(X_train.drop(\"dt\", axis=1), y_train)\n",
    "y_dev_hat = recurrent_prediction(y_train, N_lags, reg_kn)\n",
    "np.sqrt(mean_squared_error(y_dev, y_dev_hat))"
   ]
  },
  {
   "cell_type": "code",
   "execution_count": null,
   "metadata": {
    "collapsed": false
   },
   "outputs": [],
   "source": [
    "plot_predicition(X_train, y_train, X_dev, y_dev, y_dev_hat)"
   ]
  },
  {
   "cell_type": "markdown",
   "metadata": {},
   "source": [
    " Elige tu mejor modelo para el parámetro\n",
    " n_neighbors"
   ]
  },
  {
   "cell_type": "code",
   "execution_count": null,
   "metadata": {
    "collapsed": true
   },
   "outputs": [],
   "source": [
    "#WRITE YOUR CODE"
   ]
  },
  {
   "cell_type": "markdown",
   "metadata": {},
   "source": [
    "##  Modelo 7: Random Forest"
   ]
  },
  {
   "cell_type": "code",
   "execution_count": null,
   "metadata": {
    "collapsed": false
   },
   "outputs": [],
   "source": [
    "from sklearn.ensemble import RandomForestRegressor\n",
    "import warnings\n",
    "warnings.filterwarnings(\"ignore\", category=FutureWarning)\n",
    "\n",
    "\n",
    "reg_rf = RandomForestRegressor(random_state=667)\n",
    "reg_rf.fit(X_train.drop(\"dt\", axis=1), y_train)\n",
    "y_dev_hat = recurrent_prediction(y_train, N_lags, reg_rf)\n",
    "np.sqrt(mean_squared_error(y_dev, y_dev_hat))"
   ]
  },
  {
   "cell_type": "markdown",
   "metadata": {},
   "source": [
    "Elige tu mejor modelo para los parámetros n_estimators y max_depth"
   ]
  },
  {
   "cell_type": "code",
   "execution_count": null,
   "metadata": {
    "collapsed": false
   },
   "outputs": [],
   "source": [
    "#WRITE YOUR CODE"
   ]
  },
  {
   "cell_type": "code",
   "execution_count": null,
   "metadata": {
    "collapsed": false
   },
   "outputs": [],
   "source": [
    "X_train_dev = pd.concat([X_train, X_dev])\n",
    "y_train_dev = np.concatenate([y_train, y_dev])\n",
    "\n",
    "reg_rf = RandomForestRegressor(n_estimators=#WRITE YOUR CODE,\n",
    "                               max_depth=#WRITE YOUR CODE\n",
    "                               , random_state=667)\n",
    "reg_rf.fit(X_train_dev.drop(\"dt\", axis=1), y_train_dev)\n",
    "y_test_hat = recurrent_prediction(y_test, N_lags, reg_rf)\n",
    "np.sqrt(mean_squared_error(y_test, y_test_hat))"
   ]
  },
  {
   "cell_type": "code",
   "execution_count": null,
   "metadata": {
    "collapsed": false
   },
   "outputs": [],
   "source": [
    "plot_predicition(X_train_dev, y_train_dev, X_test, y_test, y_test_hat)"
   ]
  },
  {
   "cell_type": "markdown",
   "metadata": {},
   "source": [
    "## Modelo 8: Autoregression (AR) "
   ]
  },
  {
   "cell_type": "code",
   "execution_count": null,
   "metadata": {
    "collapsed": false
   },
   "outputs": [],
   "source": [
    "from statsmodels.tsa.ar_model import AR\n",
    "model = AR(y_train)\n",
    "model_fit = model.fit(maxlag=12)\n",
    "y_dev_hat = model_fit.predict(start=len(y_train), end=len(y_train)+11)    \n",
    "print(np.sqrt(mean_squared_error(y_dev, y_dev_hat)))"
   ]
  },
  {
   "cell_type": "code",
   "execution_count": null,
   "metadata": {
    "collapsed": false
   },
   "outputs": [],
   "source": [
    "plot_predicition(X_train, y_train, X_dev, y_dev, y_dev_hat)"
   ]
  },
  {
   "cell_type": "markdown",
   "metadata": {},
   "source": [
    "## Modelo 8: Autoregression Moving Average (ARIMA) "
   ]
  },
  {
   "cell_type": "code",
   "execution_count": null,
   "metadata": {
    "collapsed": false
   },
   "outputs": [],
   "source": [
    "from statsmodels.tsa.arima_model import ARMA\n",
    "model = ARMA(y_train, order=(9, 2))\n",
    "model_fit = model.fit(disp=0, start_ar_lags=13)"
   ]
  },
  {
   "cell_type": "code",
   "execution_count": null,
   "metadata": {
    "collapsed": false
   },
   "outputs": [],
   "source": [
    "y_dev_hat = model_fit.predict(start=len(y_train), end=len(y_train)+11)    \n",
    "print(np.sqrt(mean_squared_error(y_dev, y_dev_hat)))"
   ]
  },
  {
   "cell_type": "code",
   "execution_count": null,
   "metadata": {
    "collapsed": false
   },
   "outputs": [],
   "source": [
    "plot_predicition(X_train, y_train, X_dev, y_dev, y_dev_hat)"
   ]
  },
  {
   "cell_type": "markdown",
   "metadata": {},
   "source": [
    "## Bibliography\n",
    "\n",
    "https://machinelearningmastery.com/how-to-develop-a-skilful-time-series-forecasting-model/\n",
    "\n",
    "https://www.itl.nist.gov/div898/handbook/pmc/section4/pmc41.htm\n",
    "\n",
    "https://www.it.uu.se/research/publications/reports/2006-022/2006-022-nc.pdf\n",
    "http://www.blackarbs.com/blog/time-series-analysis-in-python-linear-models-to-garch/11/1/2016\n"
   ]
  }
 ],
 "metadata": {
  "kernelspec": {
   "display_name": "Python 3",
   "language": "python",
   "name": "python3"
  },
  "language_info": {
   "codemirror_mode": {
    "name": "ipython",
    "version": 3
   },
   "file_extension": ".py",
   "mimetype": "text/x-python",
   "name": "python",
   "nbconvert_exporter": "python",
   "pygments_lexer": "ipython3",
   "version": "3.5.2"
  }
 },
 "nbformat": 4,
 "nbformat_minor": 2
}
