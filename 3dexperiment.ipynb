{
 "cells": [
  {
   "cell_type": "code",
   "execution_count": 1,
   "metadata": {},
   "outputs": [],
   "source": [
    "import pandas as pd\n",
    "import numpy as np\n",
    "import cv2\n",
    "import argparse\n",
    "\n",
    "from pyntcloud import PyntCloud   # https://github.com/daavoo/pyntcloud\n",
    "from PIL import Image\n"
   ]
  },
  {
   "cell_type": "code",
   "execution_count": 2,
   "metadata": {},
   "outputs": [
    {
     "name": "stdout",
     "output_type": "stream",
     "text": [
      "DONE\n"
     ]
    }
   ],
   "source": [
    "print(\"DONE\")"
   ]
  },
  {
   "cell_type": "code",
   "execution_count": 67,
   "metadata": {},
   "outputs": [],
   "source": [
    "def generate_mesh(file):\n",
    "    #   # Open an image as RGB\n",
    "    #print(\"Opening \" + filename)\n",
    "    original = file.convert('RGB')\n",
    "    \n",
    "    original=original.resize((1024,1024), Image.ANTIALIAS)\n",
    "    #   # Get the dimensions of the image\n",
    "    width, height = original.size\n",
    "    \n",
    "    #   # Split into left and right halves.  The left eye sees the right image.\n",
    "    right  = original.crop( (0,       0, width/2, height))\n",
    "    left   = original.crop( (width/2, 0, width,   height))\n",
    "    \n",
    "    \n",
    "    #   # Over/Under. Split into top and bottom halves. The right eye sees the top image.\n",
    "    top    = original.crop( (0,        0, width, height/2))\n",
    "    bottom = original.crop( (0, height/2, width,   height))\n",
    "\n",
    "    #   # Calculate the similarity of the left/right & top/bottom.\n",
    "    left_right_similarity = mse(np.array(right), np.array(left))\n",
    "    top_bottom_similarity = mse(np.array(top),   np.array(bottom))\n",
    "\n",
    "    if (top_bottom_similarity < left_right_similarity):\n",
    "        #   # This is an Over/Under image\n",
    "        \n",
    "        left  = bottom\n",
    "        right = top\n",
    "    \n",
    "        \n",
    "\n",
    "    #   # Optional. Save split images\n",
    "    # left.resize(original.size).save(filename + \"-left.png\")\n",
    "    # right.resize(original.size).save(filename + \"-right.png\")\n",
    "    \n",
    "    #   # Convert to arrays\n",
    "    image_left  = np.array(left) \n",
    "    image_right = np.array(right) \n",
    "\n",
    "    #   # Simple but less effective\n",
    "    # stereo = cv2.StereoBM_create(numDisparities=32, blockSize=25)\n",
    "    # disparity = stereo.compute(image_left,image_right)\n",
    "    # depth_image = Image.fromarray(disparity).convert('L')\n",
    "\n",
    "    #   # Parameters for dispartiy map\n",
    "    print(\"Generating Depth Map\")\n",
    "    window_size = 15\n",
    "    \n",
    "    #   # These values can be tuned depending on the image.\n",
    "    left_matcher = cv2.StereoSGBM_create(\n",
    "        #   # Documentation at https://docs.opencv.org/trunk/d2/d85/classcv_1_1StereoSGBM.html\n",
    "        minDisparity=0,\n",
    "        numDisparities=16,\n",
    "        blockSize=5,\n",
    "        P1=8 * 3 * window_size ** 2,\n",
    "        P2=32 * 3 * window_size ** 2,\n",
    "        # disp12MaxDiff = 0,\n",
    "        # preFilterCap = 0,\n",
    "        # uniquenessRatio = 0,\n",
    "        # speckleWindowSize = 0,\n",
    "        # speckleRange = 0,\n",
    "        # mode = StereoSGBM::MODE_SGBM  #   https://docs.opencv.org/trunk/d2/d85/classcv_1_1StereoSGBM.html#ad985310396dd4d95a003b83811bbc138\n",
    "    )\n",
    "    \n",
    "    #   # Create matchers\n",
    "    right_matcher = cv2.ximgproc.createRightMatcher(left_matcher)\n",
    "     \n",
    "    wls_filter = cv2.ximgproc.createDisparityWLSFilter(matcher_left=left_matcher)\n",
    "    wls_filter.setLambda(80000)\n",
    "    wls_filter.setSigmaColor(1.2)\n",
    "     \n",
    "    disparity_left  = left_matcher.compute(image_left, image_right)\n",
    "    disparity_right = right_matcher.compute(image_right, image_left)\n",
    "    disparity_left  = np.int16(disparity_left)\n",
    "    disparity_right = np.int16(disparity_right)\n",
    "    filtered_image  = wls_filter.filter(disparity_left, image_left, None, disparity_right)\n",
    "    \n",
    "    #   # Generate a depth map\n",
    "    depth_map = cv2.normalize(src=filtered_image, dst=filtered_image, beta=0, alpha=255, norm_type=cv2.NORM_MINMAX);\n",
    "    depth_map = np.uint8(depth_map)\n",
    "    \n",
    "    #   # Invert image. Optional depending on stereo pair\n",
    "    if (top_bottom_similarity > left_right_similarity):\n",
    "        depth_map = cv2.bitwise_not(depth_map)\n",
    "\n",
    "    #   # Greyscale\n",
    "    depth_image = Image.fromarray(depth_map, mode=\"L\")\n",
    "    #   # Optional - Save Disparity\n",
    "    # depth_image.resize(original.size).save(filename+\"-depth.png\")\n",
    "\n",
    "    #   # Get the colour information from the left image. Resized to original.  Rotated 90 degrees for STL.\n",
    "    print(\"Creating Colour Map\")\n",
    "    colours_array  = np.array(left.resize(original.size)\n",
    "                                  .rotate(-90, expand=True)\n",
    "                                  .getdata()\n",
    "                    ).reshape(original.size + (3,))\n",
    "    \n",
    "    #   # Create a Pandas DataFrame of each pixel's position and colour\n",
    "    indices_array = np.moveaxis(np.indices(original.size), 0, 2)\n",
    "    imageArray    = np.dstack((indices_array, colours_array)).reshape((-1,5))\n",
    "    df = pd.DataFrame(imageArray, columns=[\"x\", \"y\", \"red\",\"green\",\"blue\"])\n",
    "\n",
    "    #   # Get depth information. Resized to original.  Rotated 90 degrees for STL.\n",
    "    depths_array = np.array(depth_image.resize(original.size)\n",
    "                                       .rotate(-90, expand=True)\n",
    "                                       .getdata())\n",
    "    \n",
    "    #   # Add depth to DataFrame\n",
    "    df.insert(loc=2, column='z', value=depths_array)\n",
    "    \n",
    "    #   # Set unit types correctly\n",
    "    df[['red','green','blue']] = df[['red','green','blue']].astype(np.uint)\n",
    "    df[['x','y','z']] = df[['x','y','z']].astype(float)\n",
    "    \n",
    "    #   # Optional - increase the intensity of the depth information\n",
    "    df['z'] = df['z']*5\n",
    "\n",
    "    #   # Generate mesh\n",
    "    print(\"Generating Mesh\")\n",
    "    cloud = PyntCloud(df)\n",
    "    \n",
    "    print(cloud.xyz.shape)\n",
    "    \n",
    "    #   # Save mesh to file\n",
    "    print(\"Saving Mesh\")\n",
    "    cloud.to_file(\"mesh.ply\", also_save=[\"mesh\",\"points\"],as_text=True)\n",
    "\n",
    "def mse(imageA, imageB):\n",
    "    # the 'Mean Squared Error' between the two images is the\n",
    "    # sum of the squared difference between the two images;\n",
    "    # NOTE: the two images must have the same dimension\n",
    "    # From https://www.pyimagesearch.com/2014/09/15/python-compare-two-images/\n",
    "    err = np.sum((imageA.astype(\"float\") - imageB.astype(\"float\")) ** 2)\n",
    "    err /= float(imageA.shape[0] * imageA.shape[1])\n",
    "\n",
    "    # return the MSE, the lower the error, the more \"similar\"\n",
    "    # the two images are\n",
    "    return err\n",
    "\n",
    "def main(image):\n",
    "    \n",
    "\n",
    "    generate_mesh(image)"
   ]
  },
  {
   "cell_type": "code",
   "execution_count": 68,
   "metadata": {},
   "outputs": [
    {
     "name": "stdout",
     "output_type": "stream",
     "text": [
      "demo001.jpg\r\n"
     ]
    }
   ],
   "source": [
    "!ls datademo001/\n"
   ]
  },
  {
   "cell_type": "code",
   "execution_count": 69,
   "metadata": {},
   "outputs": [
    {
     "name": "stdout",
     "output_type": "stream",
     "text": [
      "Generating Depth Map\n",
      "Creating Colour Map\n",
      "Generating Mesh\n",
      "(1048576, 3)\n",
      "Saving Mesh\n"
     ]
    }
   ],
   "source": [
    "images = map(Image.open, ['datademo001/demo001.jpg', 'datademo001/demo001.jpg'])\n",
    "widths, heights = zip(*(i.size for i in images))\n",
    "\n",
    "total_width = sum(widths)\n",
    "max_height = max(heights)\n",
    "\n",
    "new_im = Image.new('RGB', (total_width, max_height))\n",
    "\n",
    "x_offset = 0\n",
    "for im in images:\n",
    "  new_im.paste(im, (x_offset,0))\n",
    "  x_offset += im.size[0]\n",
    "    \n",
    "\n",
    "main(new_im)"
   ]
  },
  {
   "cell_type": "code",
   "execution_count": null,
   "metadata": {},
   "outputs": [],
   "source": []
  },
  {
   "cell_type": "code",
   "execution_count": null,
   "metadata": {},
   "outputs": [],
   "source": []
  }
 ],
 "metadata": {
  "kernelspec": {
   "display_name": "Python 3",
   "language": "python",
   "name": "python3"
  },
  "language_info": {
   "codemirror_mode": {
    "name": "ipython",
    "version": 3
   },
   "file_extension": ".py",
   "mimetype": "text/x-python",
   "name": "python",
   "nbconvert_exporter": "python",
   "pygments_lexer": "ipython3",
   "version": "3.7.1"
  }
 },
 "nbformat": 4,
 "nbformat_minor": 2
}
