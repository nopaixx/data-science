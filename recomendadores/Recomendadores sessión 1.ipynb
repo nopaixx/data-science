{
 "cells": [
  {
   "cell_type": "code",
   "execution_count": 2,
   "metadata": {},
   "outputs": [],
   "source": [
    "#Sistemas de recomendación"
   ]
  },
  {
   "cell_type": "code",
   "execution_count": 6,
   "metadata": {},
   "outputs": [],
   "source": [
    "#Users\n",
    "#Items\n",
    "#1 User---->N Items\n",
    "#1 Item ----> N User\n"
   ]
  },
  {
   "cell_type": "code",
   "execution_count": 8,
   "metadata": {},
   "outputs": [],
   "source": [
    "import numpy as np\n",
    "import pandas as pd\n",
    "import scipy.stats as sts"
   ]
  },
  {
   "cell_type": "code",
   "execution_count": 9,
   "metadata": {},
   "outputs": [
    {
     "data": {
      "text/html": [
       "<div>\n",
       "<style scoped>\n",
       "    .dataframe tbody tr th:only-of-type {\n",
       "        vertical-align: middle;\n",
       "    }\n",
       "\n",
       "    .dataframe tbody tr th {\n",
       "        vertical-align: top;\n",
       "    }\n",
       "\n",
       "    .dataframe thead th {\n",
       "        text-align: right;\n",
       "    }\n",
       "</style>\n",
       "<table border=\"1\" class=\"dataframe\">\n",
       "  <thead>\n",
       "    <tr style=\"text-align: right;\">\n",
       "      <th></th>\n",
       "      <th>a</th>\n",
       "      <th>b</th>\n",
       "      <th>c</th>\n",
       "      <th>d</th>\n",
       "      <th>e</th>\n",
       "      <th>f</th>\n",
       "    </tr>\n",
       "    <tr>\n",
       "      <th>item</th>\n",
       "      <th></th>\n",
       "      <th></th>\n",
       "      <th></th>\n",
       "      <th></th>\n",
       "      <th></th>\n",
       "      <th></th>\n",
       "    </tr>\n",
       "  </thead>\n",
       "  <tbody>\n",
       "    <tr>\n",
       "      <th>manzana</th>\n",
       "      <td>5</td>\n",
       "      <td>4</td>\n",
       "      <td>4</td>\n",
       "      <td>1</td>\n",
       "      <td>5</td>\n",
       "      <td>5</td>\n",
       "    </tr>\n",
       "    <tr>\n",
       "      <th>sandia</th>\n",
       "      <td>5</td>\n",
       "      <td>3</td>\n",
       "      <td>3</td>\n",
       "      <td>2</td>\n",
       "      <td>5</td>\n",
       "      <td>5</td>\n",
       "    </tr>\n",
       "    <tr>\n",
       "      <th>pera</th>\n",
       "      <td>0</td>\n",
       "      <td>0</td>\n",
       "      <td>3</td>\n",
       "      <td>1</td>\n",
       "      <td>5</td>\n",
       "      <td>0</td>\n",
       "    </tr>\n",
       "    <tr>\n",
       "      <th>pizza</th>\n",
       "      <td>0</td>\n",
       "      <td>5</td>\n",
       "      <td>0</td>\n",
       "      <td>5</td>\n",
       "      <td>0</td>\n",
       "      <td>0</td>\n",
       "    </tr>\n",
       "    <tr>\n",
       "      <th>perrito</th>\n",
       "      <td>0</td>\n",
       "      <td>4</td>\n",
       "      <td>0</td>\n",
       "      <td>5</td>\n",
       "      <td>0</td>\n",
       "      <td>0</td>\n",
       "    </tr>\n",
       "    <tr>\n",
       "      <th>hamburguesa</th>\n",
       "      <td>0</td>\n",
       "      <td>4</td>\n",
       "      <td>0</td>\n",
       "      <td>5</td>\n",
       "      <td>0</td>\n",
       "      <td>0</td>\n",
       "    </tr>\n",
       "    <tr>\n",
       "      <th>ensalada</th>\n",
       "      <td>4</td>\n",
       "      <td>0</td>\n",
       "      <td>3</td>\n",
       "      <td>0</td>\n",
       "      <td>4</td>\n",
       "      <td>4</td>\n",
       "    </tr>\n",
       "    <tr>\n",
       "      <th>hummus</th>\n",
       "      <td>0</td>\n",
       "      <td>0</td>\n",
       "      <td>4</td>\n",
       "      <td>2</td>\n",
       "      <td>5</td>\n",
       "      <td>5</td>\n",
       "    </tr>\n",
       "    <tr>\n",
       "      <th>chuleton</th>\n",
       "      <td>0</td>\n",
       "      <td>4</td>\n",
       "      <td>2</td>\n",
       "      <td>4</td>\n",
       "      <td>0</td>\n",
       "      <td>0</td>\n",
       "    </tr>\n",
       "    <tr>\n",
       "      <th>longaniza</th>\n",
       "      <td>0</td>\n",
       "      <td>4</td>\n",
       "      <td>0</td>\n",
       "      <td>3</td>\n",
       "      <td>0</td>\n",
       "      <td>0</td>\n",
       "    </tr>\n",
       "    <tr>\n",
       "      <th>lubina</th>\n",
       "      <td>0</td>\n",
       "      <td>0</td>\n",
       "      <td>2</td>\n",
       "      <td>0</td>\n",
       "      <td>0</td>\n",
       "      <td>0</td>\n",
       "    </tr>\n",
       "  </tbody>\n",
       "</table>\n",
       "</div>"
      ],
      "text/plain": [
       "             a  b  c  d  e  f\n",
       "item                         \n",
       "manzana      5  4  4  1  5  5\n",
       "sandia       5  3  3  2  5  5\n",
       "pera         0  0  3  1  5  0\n",
       "pizza        0  5  0  5  0  0\n",
       "perrito      0  4  0  5  0  0\n",
       "hamburguesa  0  4  0  5  0  0\n",
       "ensalada     4  0  3  0  4  4\n",
       "hummus       0  0  4  2  5  5\n",
       "chuleton     0  4  2  4  0  0\n",
       "longaniza    0  4  0  3  0  0\n",
       "lubina       0  0  2  0  0  0"
      ]
     },
     "execution_count": 9,
     "metadata": {},
     "output_type": "execute_result"
    }
   ],
   "source": [
    "df = pd.DataFrame({'item': ['manzana', 'sandia', 'pera', 'pizza', 'perrito', 'hamburguesa',\n",
    "                            'ensalada', 'hummus', 'chuleton', 'longaniza', 'lubina'],\n",
    "                   'a': [5, 5, 0, 0, 0, 0, 4, 0, 0, 0, 0],\n",
    "                   'b': [4, 3, 0, 5, 4, 4, 0, 0, 4, 4, 0],\n",
    "                   'c': [4, 3, 3, 0, 0, 0, 3, 4, 2, 0, 2],\n",
    "                   'd': [1, 2, 1, 5, 5, 5, 0, 2, 4, 3, 0],\n",
    "                   'e': [5, 5, 5, 0, 0, 0, 4, 5, 0, 0, 0],\n",
    "                   'f': [5, 5, 0, 0, 0, 0, 4, 5, 0, 0, 0]})\n",
    "df.set_index('item', inplace=True)\n",
    "df"
   ]
  },
  {
   "cell_type": "code",
   "execution_count": 10,
   "metadata": {},
   "outputs": [
    {
     "data": {
      "text/html": [
       "<div>\n",
       "<style scoped>\n",
       "    .dataframe tbody tr th:only-of-type {\n",
       "        vertical-align: middle;\n",
       "    }\n",
       "\n",
       "    .dataframe tbody tr th {\n",
       "        vertical-align: top;\n",
       "    }\n",
       "\n",
       "    .dataframe thead th {\n",
       "        text-align: right;\n",
       "    }\n",
       "</style>\n",
       "<table border=\"1\" class=\"dataframe\">\n",
       "  <thead>\n",
       "    <tr style=\"text-align: right;\">\n",
       "      <th></th>\n",
       "      <th>a</th>\n",
       "      <th>b</th>\n",
       "      <th>c</th>\n",
       "      <th>d</th>\n",
       "      <th>e</th>\n",
       "      <th>f</th>\n",
       "    </tr>\n",
       "    <tr>\n",
       "      <th>item</th>\n",
       "      <th></th>\n",
       "      <th></th>\n",
       "      <th></th>\n",
       "      <th></th>\n",
       "      <th></th>\n",
       "      <th></th>\n",
       "    </tr>\n",
       "  </thead>\n",
       "  <tbody>\n",
       "    <tr>\n",
       "      <th>manzana</th>\n",
       "      <td>1</td>\n",
       "      <td>1</td>\n",
       "      <td>1</td>\n",
       "      <td>1</td>\n",
       "      <td>1</td>\n",
       "      <td>1</td>\n",
       "    </tr>\n",
       "    <tr>\n",
       "      <th>sandia</th>\n",
       "      <td>1</td>\n",
       "      <td>1</td>\n",
       "      <td>1</td>\n",
       "      <td>1</td>\n",
       "      <td>1</td>\n",
       "      <td>1</td>\n",
       "    </tr>\n",
       "    <tr>\n",
       "      <th>pera</th>\n",
       "      <td>0</td>\n",
       "      <td>0</td>\n",
       "      <td>1</td>\n",
       "      <td>1</td>\n",
       "      <td>1</td>\n",
       "      <td>0</td>\n",
       "    </tr>\n",
       "    <tr>\n",
       "      <th>pizza</th>\n",
       "      <td>0</td>\n",
       "      <td>1</td>\n",
       "      <td>0</td>\n",
       "      <td>1</td>\n",
       "      <td>0</td>\n",
       "      <td>0</td>\n",
       "    </tr>\n",
       "    <tr>\n",
       "      <th>perrito</th>\n",
       "      <td>0</td>\n",
       "      <td>1</td>\n",
       "      <td>0</td>\n",
       "      <td>1</td>\n",
       "      <td>0</td>\n",
       "      <td>0</td>\n",
       "    </tr>\n",
       "    <tr>\n",
       "      <th>hamburguesa</th>\n",
       "      <td>0</td>\n",
       "      <td>1</td>\n",
       "      <td>0</td>\n",
       "      <td>1</td>\n",
       "      <td>0</td>\n",
       "      <td>0</td>\n",
       "    </tr>\n",
       "    <tr>\n",
       "      <th>ensalada</th>\n",
       "      <td>1</td>\n",
       "      <td>0</td>\n",
       "      <td>1</td>\n",
       "      <td>0</td>\n",
       "      <td>1</td>\n",
       "      <td>1</td>\n",
       "    </tr>\n",
       "    <tr>\n",
       "      <th>hummus</th>\n",
       "      <td>0</td>\n",
       "      <td>0</td>\n",
       "      <td>1</td>\n",
       "      <td>1</td>\n",
       "      <td>1</td>\n",
       "      <td>1</td>\n",
       "    </tr>\n",
       "    <tr>\n",
       "      <th>chuleton</th>\n",
       "      <td>0</td>\n",
       "      <td>1</td>\n",
       "      <td>1</td>\n",
       "      <td>1</td>\n",
       "      <td>0</td>\n",
       "      <td>0</td>\n",
       "    </tr>\n",
       "    <tr>\n",
       "      <th>longaniza</th>\n",
       "      <td>0</td>\n",
       "      <td>1</td>\n",
       "      <td>0</td>\n",
       "      <td>1</td>\n",
       "      <td>0</td>\n",
       "      <td>0</td>\n",
       "    </tr>\n",
       "    <tr>\n",
       "      <th>lubina</th>\n",
       "      <td>0</td>\n",
       "      <td>0</td>\n",
       "      <td>1</td>\n",
       "      <td>0</td>\n",
       "      <td>0</td>\n",
       "      <td>0</td>\n",
       "    </tr>\n",
       "  </tbody>\n",
       "</table>\n",
       "</div>"
      ],
      "text/plain": [
       "             a  b  c  d  e  f\n",
       "item                         \n",
       "manzana      1  1  1  1  1  1\n",
       "sandia       1  1  1  1  1  1\n",
       "pera         0  0  1  1  1  0\n",
       "pizza        0  1  0  1  0  0\n",
       "perrito      0  1  0  1  0  0\n",
       "hamburguesa  0  1  0  1  0  0\n",
       "ensalada     1  0  1  0  1  1\n",
       "hummus       0  0  1  1  1  1\n",
       "chuleton     0  1  1  1  0  0\n",
       "longaniza    0  1  0  1  0  0\n",
       "lubina       0  0  1  0  0  0"
      ]
     },
     "execution_count": 10,
     "metadata": {},
     "output_type": "execute_result"
    }
   ],
   "source": [
    "\n",
    "df_bin = (df>0).astype(int)\n",
    "df_bin"
   ]
  },
  {
   "cell_type": "code",
   "execution_count": 13,
   "metadata": {},
   "outputs": [],
   "source": [
    "#interesecciones\n",
    "#jaccard loss son similares"
   ]
  },
  {
   "cell_type": "code",
   "execution_count": 24,
   "metadata": {},
   "outputs": [],
   "source": [
    "jaccard = lambda a,b : len(a.intersection(b)) / (len(a.union(b))+0.00000000001)\n"
   ]
  },
  {
   "cell_type": "code",
   "execution_count": 25,
   "metadata": {},
   "outputs": [
    {
     "data": {
      "text/plain": [
       "0.0"
      ]
     },
     "execution_count": 25,
     "metadata": {},
     "output_type": "execute_result"
    }
   ],
   "source": [
    "jaccard(set([1,2,3]),set([7,8,9]))"
   ]
  },
  {
   "cell_type": "code",
   "execution_count": 26,
   "metadata": {},
   "outputs": [
    {
     "data": {
      "text/plain": [
       "{'ensalada', 'manzana', 'sandia'}"
      ]
     },
     "execution_count": 26,
     "metadata": {},
     "output_type": "execute_result"
    }
   ],
   "source": [
    "set(df_bin[df_bin['a']>0].index)"
   ]
  },
  {
   "cell_type": "code",
   "execution_count": 28,
   "metadata": {},
   "outputs": [
    {
     "name": "stdout",
     "output_type": "stream",
     "text": [
      "Sim(a,b) = 0.24999999999968753\n",
      "Sim(a,c) = 0.4285714285708163\n",
      "Sim(a,d) = 0.1999999999998\n",
      "Sim(a,e) = 0.5999999999988\n",
      "Sim(a,f) = 0.749999999998125\n",
      "Sim(b,a) = 0.24999999999968753\n",
      "Sim(b,c) = 0.2727272727270248\n",
      "Sim(b,d) = 0.7777777777769137\n",
      "Sim(b,e) = 0.1999999999998\n",
      "Sim(b,f) = 0.22222222222197532\n",
      "Sim(c,a) = 0.4285714285708163\n",
      "Sim(c,b) = 0.2727272727270248\n",
      "Sim(c,d) = 0.45454545454504136\n",
      "Sim(c,e) = 0.7142857142846939\n",
      "Sim(c,f) = 0.571428571427755\n",
      "Sim(d,a) = 0.1999999999998\n",
      "Sim(d,b) = 0.7777777777769137\n",
      "Sim(d,c) = 0.45454545454504136\n",
      "Sim(d,e) = 0.3999999999996\n",
      "Sim(d,f) = 0.2999999999997\n",
      "Sim(e,a) = 0.5999999999988\n",
      "Sim(e,b) = 0.1999999999998\n",
      "Sim(e,c) = 0.7142857142846939\n",
      "Sim(e,d) = 0.3999999999996\n",
      "Sim(e,f) = 0.7999999999984\n",
      "Sim(f,a) = 0.749999999998125\n",
      "Sim(f,b) = 0.22222222222197532\n",
      "Sim(f,c) = 0.571428571427755\n",
      "Sim(f,d) = 0.2999999999997\n",
      "Sim(f,e) = 0.7999999999984\n"
     ]
    }
   ],
   "source": [
    "for u0 in df_bin.columns:\n",
    "    for u1 in df_bin.columns:\n",
    "        if u0 != u1:\n",
    "            items0=set(df_bin[df_bin[u0]>0].index)\n",
    "            items1=set(df_bin[df_bin[u1]>0].index)\n",
    "            print(\"Sim({},{}) = {}\".format(u0,u1,jaccard(items0,items1)))"
   ]
  },
  {
   "cell_type": "code",
   "execution_count": 29,
   "metadata": {},
   "outputs": [],
   "source": [
    "#Necessitamos un top K de vecinos que mas se parecen"
   ]
  },
  {
   "cell_type": "code",
   "execution_count": 31,
   "metadata": {},
   "outputs": [
    {
     "name": "stdout",
     "output_type": "stream",
     "text": [
      "Sim(a,b) = 0.24999999999968753\n",
      "Sim(a,c) = 0.4285714285708163\n",
      "Sim(a,d) = 0.1999999999998\n",
      "Sim(a,e) = 0.5999999999988\n",
      "Sim(a,f) = 0.749999999998125\n"
     ]
    }
   ],
   "source": [
    "\n",
    "u0 = 'a'\n",
    "\n",
    "neig = []\n",
    "for u1 in df_bin.columns:\n",
    "    if u0 != u1:\n",
    "        items0=set(df_bin[df_bin[u0]>0].index)\n",
    "        items1=set(df_bin[df_bin[u1]>0].index)\n",
    "        neig.append((u1,jaccard(items0,items1)))\n",
    "        print(\"Sim({},{}) = {}\".format(u0,u1,jaccard(items0,items1)))"
   ]
  },
  {
   "cell_type": "code",
   "execution_count": 32,
   "metadata": {},
   "outputs": [
    {
     "data": {
      "text/plain": [
       "[('b', 0.24999999999968753),\n",
       " ('c', 0.4285714285708163),\n",
       " ('d', 0.1999999999998),\n",
       " ('e', 0.5999999999988),\n",
       " ('f', 0.749999999998125)]"
      ]
     },
     "execution_count": 32,
     "metadata": {},
     "output_type": "execute_result"
    }
   ],
   "source": [
    "neig"
   ]
  },
  {
   "cell_type": "code",
   "execution_count": 40,
   "metadata": {},
   "outputs": [],
   "source": [
    "top = sorted(neig, key = lambda x: -x[1])[0:2]"
   ]
  },
  {
   "cell_type": "code",
   "execution_count": 41,
   "metadata": {},
   "outputs": [
    {
     "data": {
      "text/plain": [
       "[('f', 0.749999999998125), ('e', 0.5999999999988)]"
      ]
     },
     "execution_count": 41,
     "metadata": {},
     "output_type": "execute_result"
    }
   ],
   "source": [
    "top"
   ]
  },
  {
   "cell_type": "code",
   "execution_count": 54,
   "metadata": {},
   "outputs": [],
   "source": [
    "# item -> score\n",
    "recomendaciones = {}\n",
    "\n",
    "for n, similarity in top:\n",
    "    for item in df_bin[df_bin[n]>0].index:\n",
    "        if item not in set(df_bin[df_bin['a']>0].index):\n",
    "            if item in recomendaciones:                \n",
    "                recomendaciones[item] += (similarity)\n",
    "            else:\n",
    "                recomendaciones[item] = similarity"
   ]
  },
  {
   "cell_type": "code",
   "execution_count": 55,
   "metadata": {},
   "outputs": [
    {
     "data": {
      "text/plain": [
       "{'hummus': 1.3499999999969252, 'pera': 0.5999999999988}"
      ]
     },
     "execution_count": 55,
     "metadata": {},
     "output_type": "execute_result"
    }
   ],
   "source": [
    "recomendaciones"
   ]
  },
  {
   "cell_type": "code",
   "execution_count": 56,
   "metadata": {},
   "outputs": [],
   "source": [
    "#jaccard funciona con binarios\n",
    "#pero no si tenemos la matriz puntuada"
   ]
  },
  {
   "cell_type": "code",
   "execution_count": 57,
   "metadata": {},
   "outputs": [],
   "source": [
    "sts.pearsonr?"
   ]
  },
  {
   "cell_type": "code",
   "execution_count": 58,
   "metadata": {},
   "outputs": [
    {
     "name": "stdout",
     "output_type": "stream",
     "text": [
      "a b (-0.014025268244765073, 0.9673537305875948)\n",
      "a c (0.5630164352612619, 0.07133112524015639)\n",
      "a d (-0.47773066916197693, 0.13724307333312027)\n",
      "a e (0.6402913757205406, 0.033822514649123954)\n",
      "a f (0.789823242704962, 0.0038279681529224444)\n"
     ]
    }
   ],
   "source": [
    "u0='a'\n",
    "for u1 in df.columns:\n",
    "    if u0!=u1:\n",
    "        print(u0,u1, sts.pearsonr(df[u0],df[u1]))"
   ]
  },
  {
   "cell_type": "code",
   "execution_count": null,
   "metadata": {},
   "outputs": [],
   "source": []
  },
  {
   "cell_type": "code",
   "execution_count": null,
   "metadata": {},
   "outputs": [],
   "source": []
  },
  {
   "cell_type": "code",
   "execution_count": null,
   "metadata": {},
   "outputs": [],
   "source": []
  },
  {
   "cell_type": "code",
   "execution_count": null,
   "metadata": {},
   "outputs": [],
   "source": []
  },
  {
   "cell_type": "code",
   "execution_count": null,
   "metadata": {},
   "outputs": [],
   "source": []
  },
  {
   "cell_type": "code",
   "execution_count": null,
   "metadata": {},
   "outputs": [],
   "source": []
  },
  {
   "cell_type": "code",
   "execution_count": null,
   "metadata": {},
   "outputs": [],
   "source": []
  },
  {
   "cell_type": "code",
   "execution_count": null,
   "metadata": {},
   "outputs": [],
   "source": []
  },
  {
   "cell_type": "code",
   "execution_count": null,
   "metadata": {},
   "outputs": [],
   "source": []
  }
 ],
 "metadata": {
  "kernelspec": {
   "display_name": "Python 3",
   "language": "python",
   "name": "python3"
  },
  "language_info": {
   "codemirror_mode": {
    "name": "ipython",
    "version": 3
   },
   "file_extension": ".py",
   "mimetype": "text/x-python",
   "name": "python",
   "nbconvert_exporter": "python",
   "pygments_lexer": "ipython3",
   "version": "3.6.7"
  }
 },
 "nbformat": 4,
 "nbformat_minor": 2
}
